{
 "cells": [
  {
   "cell_type": "markdown",
   "metadata": {},
   "source": [
    "## Demo Usage for the Language Collapse Methodology"
   ]
  },
  {
   "cell_type": "markdown",
   "metadata": {},
   "source": [
    "### Part 1: Creating the Collapsed Dataset"
   ]
  },
  {
   "cell_type": "markdown",
   "metadata": {},
   "source": [
    "Import all necessary libraries/scripts"
   ]
  },
  {
   "cell_type": "code",
   "execution_count": 12,
   "metadata": {},
   "outputs": [],
   "source": [
    "from transformers import BertConfig\n",
    "from utils import get_vocab_size, create_base_tokenizer\n",
    "from matplotlib import pyplot as plt\n",
    "from transformers import BertForMaskedLM\n",
    "from bert import MAX_LEN, pad_and_mask, add_mlm_masking, train\n",
    "from transformers import AutoModelForCausalLM, AutoTokenizer\n",
    "from datasets import load_dataset\n",
    "import pickle\n",
    "from generator import create_dataset, get_collapsed_words"
   ]
  },
  {
   "cell_type": "markdown",
   "metadata": {},
   "source": [
    "Specify collapse factor. Here we collapse the langauge 50%."
   ]
  },
  {
   "cell_type": "code",
   "execution_count": 13,
   "metadata": {},
   "outputs": [],
   "source": [
    "COLLAPSE_FACTOR = 1/0.5 # code uses inverse of the more readible factor, 0.5"
   ]
  },
  {
   "cell_type": "markdown",
   "metadata": {},
   "source": [
    "Load the dataset and original model. Our work is done with the TinyStories dataset and model. Then, extract the embeddings from the model."
   ]
  },
  {
   "cell_type": "code",
   "execution_count": 14,
   "metadata": {},
   "outputs": [],
   "source": [
    "dataset = load_dataset('roneneldan/TinyStories')\n",
    "dataset_train = dataset['train']\n",
    "dataset_val = dataset['validation']\n",
    "og_model = AutoModelForCausalLM.from_pretrained('roneneldan/TinyStories-33M')\n",
    "og_tokenizer = AutoTokenizer.from_pretrained(\"roneneldan/TinyStories-33M\")\n",
    "embedding_layer = og_model.transformer.wte"
   ]
  },
  {
   "cell_type": "markdown",
   "metadata": {},
   "source": [
    "Use our algorithm to get the get the collapsed mappings of the dataset. Note that we want to ignore special characters and basic characters (e.g. \"a\", \"!\", etc.), hence \"ids_to_keep\"."
   ]
  },
  {
   "cell_type": "code",
   "execution_count": 15,
   "metadata": {},
   "outputs": [
    {
     "name": "stdout",
     "output_type": "stream",
     "text": [
      "Starting calculating distances\n",
      "Time taken: 15.233837842941284\n"
     ]
    }
   ],
   "source": [
    "token_to_new_id, id_to_new_id = get_collapsed_words(COLLAPSE_FACTOR, og_tokenizer, embedding_layer, use_saved=False, ids_to_keep=list(range(256)) + [-1])"
   ]
  },
  {
   "cell_type": "markdown",
   "metadata": {},
   "source": [
    "Create the new dataset with the mappings found. Note that we need to use the same re-numbered ID mappings to create the validation set, so it is passed in for the second call to create_dataset."
   ]
  },
  {
   "cell_type": "code",
   "execution_count": 16,
   "metadata": {},
   "outputs": [
    {
     "name": "stderr",
     "output_type": "stream",
     "text": [
      "100%|██████████| 1000/1000 [00:00<00:00, 1962.86it/s]\n",
      "100%|██████████| 1000/1000 [00:00<00:00, 2373.14it/s]\n"
     ]
    }
   ],
   "source": [
    "_, id_to_fixed_idx = create_dataset(dataset_train, og_tokenizer, id_to_new_id, og_ds_dir=f\"original_dataset.pkl\", new_ds_dir=f\"new_dataset.pkl\")\n",
    "create_dataset(dataset_val, og_tokenizer, id_to_new_id, id_to_fixed_idx, og_ds_dir=f\"original_dataset_val.pkl\", new_ds_dir=f\"new_dataset_val.pkl\");"
   ]
  },
  {
   "cell_type": "markdown",
   "metadata": {},
   "source": [
    "### Part 2: Use the Collapsed Dataset"
   ]
  },
  {
   "cell_type": "markdown",
   "metadata": {},
   "source": [
    "Specify the original tokenizer directory to get both vocab sizes."
   ]
  },
  {
   "cell_type": "code",
   "execution_count": 17,
   "metadata": {},
   "outputs": [],
   "source": [
    "try:\n",
    "    original_vocab_size = get_vocab_size(\"base_tokenizer\")\n",
    "except Exception as e:\n",
    "    print(\"Missing tokenizer, downloading the default TinyStories tokenizer.\")\n",
    "    create_base_tokenizer(\"roneneldan/TinyStories-33M\")\n",
    "    original_vocab_size = get_vocab_size(\"base_tokenizer\")\n",
    "    \n",
    "new_vocab_size = int(original_vocab_size // COLLAPSE_FACTOR)"
   ]
  },
  {
   "cell_type": "markdown",
   "metadata": {},
   "source": [
    "Load the collapsed datasets we just created."
   ]
  },
  {
   "cell_type": "code",
   "execution_count": 18,
   "metadata": {},
   "outputs": [],
   "source": [
    "with open(\"new_dataset.pkl\", \"rb\") as file:\n",
    "    new_dataset_train = pickle.load(file)\n",
    "with open(\"new_dataset_val.pkl\", \"rb\") as file:\n",
    "    new_dataset_val = pickle.load(file)"
   ]
  },
  {
   "cell_type": "markdown",
   "metadata": {},
   "source": [
    "Prepare the data for the MLM task using our functions."
   ]
  },
  {
   "cell_type": "code",
   "execution_count": 19,
   "metadata": {},
   "outputs": [],
   "source": [
    "new_dataset_ids, new_dataset_mask = pad_and_mask(new_dataset_train)\n",
    "new_dataset_ids, new_dataset_labels = add_mlm_masking(new_dataset_ids, new_vocab_size)\n",
    "new_dataset_val_ids, new_dataset_val_mask = pad_and_mask(new_dataset_val)\n",
    "new_dataset_val_ids, new_dataset_val_labels = add_mlm_masking(new_dataset_val_ids, new_vocab_size)"
   ]
  },
  {
   "cell_type": "markdown",
   "metadata": {},
   "source": [
    "Create the models that we are interested in benchmarking."
   ]
  },
  {
   "cell_type": "code",
   "execution_count": 20,
   "metadata": {},
   "outputs": [],
   "source": [
    "# Original model that we are comparing against\n",
    "bert_config_1 = BertConfig(\n",
    "    vocab_size=new_vocab_size,\n",
    "    hidden_size=64,\n",
    "    num_hidden_layers=2,\n",
    "    num_attention_heads=2,\n",
    "    intermediate_size=512,\n",
    "    max_position_embeddings=MAX_LEN,\n",
    ")\n",
    "\n",
    "# Increased embedding size\n",
    "bert_config_2 = BertConfig(\n",
    "    vocab_size=new_vocab_size,\n",
    "    hidden_size=128,\n",
    "    num_hidden_layers=2,\n",
    "    num_attention_heads=2,\n",
    "    intermediate_size=512,\n",
    "    max_position_embeddings=MAX_LEN,\n",
    ")\n",
    "\n",
    "# Even further increased embedding size\n",
    "bert_config_3 = BertConfig(\n",
    "    vocab_size=new_vocab_size,\n",
    "    hidden_size=256,\n",
    "    num_hidden_layers=2,\n",
    "    num_attention_heads=2,\n",
    "    intermediate_size=512,\n",
    "    max_position_embeddings=MAX_LEN,\n",
    ")"
   ]
  },
  {
   "cell_type": "markdown",
   "metadata": {},
   "source": [
    "Train each model and save the validatation losses."
   ]
  },
  {
   "cell_type": "code",
   "execution_count": 21,
   "metadata": {},
   "outputs": [
    {
     "name": "stdout",
     "output_type": "stream",
     "text": [
      "Using device: cuda\n",
      "Using device: cuda\n",
      "Using device: cuda\n"
     ]
    }
   ],
   "source": [
    "model = BertForMaskedLM(bert_config_1)\n",
    "# First is train loss, second is val loss. Only interested in val loss\n",
    "model = BertForMaskedLM(bert_config_1)\n",
    "_, old_model = train(new_dataset_ids, new_dataset_mask, new_dataset_labels, new_dataset_val_ids, new_dataset_val_mask, new_dataset_val_labels, model, 75, False)\n",
    "\n",
    "model = BertForMaskedLM(bert_config_2)\n",
    "_, new_model_1 = train(new_dataset_ids, new_dataset_mask, new_dataset_labels, new_dataset_val_ids, new_dataset_val_mask, new_dataset_val_labels, model, 75, False)\n",
    "\n",
    "model = BertForMaskedLM(bert_config_3)\n",
    "_, new_model_2 = train(new_dataset_ids, new_dataset_mask, new_dataset_labels, new_dataset_val_ids, new_dataset_val_mask, new_dataset_val_labels, model, 75, False)"
   ]
  },
  {
   "cell_type": "markdown",
   "metadata": {},
   "source": [
    "Plot the results."
   ]
  },
  {
   "cell_type": "code",
   "execution_count": 23,
   "metadata": {},
   "outputs": [
    {
     "data": {
      "image/png": "[encoded data removed]",
      "text/plain": [
       "<Figure size 640x480 with 1 Axes>"
      ]
     },
     "metadata": {},
     "output_type": "display_data"
    }
   ],
   "source": [
    "plt.plot(old_model, label=\"Original Model (size 64)\", color=\"C1\")\n",
    "plt.plot(new_model_1, label=\"First New Model (size 128)\", color=\"C0\")\n",
    "plt.plot(new_model_2, label=\"Second New Model (size 256)\",color=\"C2\")\n",
    "plt.xlabel(\"Epoch\")\n",
    "plt.ylabel(\"Loss\")\n",
    "plt.legend()\n",
    "plt.show()"
   ]
  },
  {
   "cell_type": "markdown",
   "metadata": {},
   "source": [
    "As we would expect, increasing the embedding size increases performance on the validation set. However, we find diminishing returns, as the improvement of 128 over 64 is larger than 256 over 128."
   ]
  }
 ],
 "metadata": {
  "kernelspec": {
   "display_name": ".venv",
   "language": "python",
   "name": "python3"
  },
  "language_info": {
   "codemirror_mode": {
    "name": "ipython",
    "version": 3
   },
   "file_extension": ".py",
   "mimetype": "text/x-python",
   "name": "python",
   "nbconvert_exporter": "python",
   "pygments_lexer": "ipython3",
   "version": "3.12.4"
  }
 },
 "nbformat": 4,
 "nbformat_minor": 2
}
